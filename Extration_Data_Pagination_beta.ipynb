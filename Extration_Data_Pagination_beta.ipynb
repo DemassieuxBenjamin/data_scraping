{
 "cells": [
  {
   "cell_type": "markdown",
   "metadata": {},
   "source": [
    "Importation des packages nécessaire pour extraire des données."
   ]
  },
  {
   "cell_type": "code",
   "execution_count": 102,
   "metadata": {},
   "outputs": [],
   "source": [
    "# Importation des packages\n",
    "import requests\n",
    "from bs4 import BeautifulSoup\n",
    "import csv\n",
    "from urllib.parse import urlencode\n",
    "import pandas as pd\n",
    "import json"
   ]
  },
  {
   "cell_type": "markdown",
   "metadata": {},
   "source": [
    "Création d'une fonction qui permet de récupéter l'URL toutes les recettes du site marmiton.org avec un ingrédient. Ici nous prenons l'exemple de l'ingrédient \"concombre\". Le site restreint le nombre de recettes à un maximum de 1 000."
   ]
  },
  {
   "cell_type": "code",
   "execution_count": 103,
   "metadata": {},
   "outputs": [
    {
     "name": "stdout",
     "output_type": "stream",
     "text": [
      "                                                                                               Recipe URL\n",
      "0    https://www.marmiton.org/recettes/recette_verrines-au-saumon-fume-a-la-creme-de-concombre_55922.aspx\n",
      "1                                 https://www.marmiton.org/recettes/recette_soupe-de-concombre_15059.aspx\n",
      "2           https://www.marmiton.org/recettes/recette_tagliatelles-de-concombre-au-saumon-fume_64364.aspx\n",
      "3                        https://www.marmiton.org/recettes/recette_tzatziki-de-concombre-grece_12823.aspx\n",
      "4         https://www.marmiton.org/recettes/recette_salade-fraicheur-concombre-et-surimi-light_34120.aspx\n",
      "..                                                                                                    ...\n",
      "995                           https://www.marmiton.org/recettes/recette_caviar-et-gourmandise_227907.aspx\n",
      "996                               https://www.marmiton.org/recettes/recette_verrine-asiatique_224851.aspx\n",
      "997                        https://www.marmiton.org/recettes/recette_soupe-a-la-betterave-rose_22400.aspx\n",
      "998                 https://www.marmiton.org/recettes/recette_salade-de-pourpier-a-la-grecque_221559.aspx\n",
      "999            https://www.marmiton.org/recettes/recette_filets-de-poulet-aux-billes-de-melon_217835.aspx\n",
      "\n",
      "[1000 rows x 1 columns]\n"
     ]
    }
   ],
   "source": [
    "def get_recipes_url_whit_ingredient(ingredient):\n",
    "    all_recipes_url = []\n",
    "    base_url = \"https://www.marmiton.org/recettes/recherche.aspx\"\n",
    "    page_number = 1\n",
    "    \n",
    "    while True:\n",
    "        search_params = {\"aqt\": ingredient, \"page\": page_number}\n",
    "        search_url = f\"{base_url}?{urlencode(search_params)}\"\n",
    "        response = requests.get(search_url)\n",
    "        \n",
    "        if response.status_code == 404:\n",
    "            break\n",
    "        response.raise_for_status()\n",
    "        soup = BeautifulSoup(response.content, \"html.parser\")\n",
    "        link_recipes = soup.find_all(\"a\", class_=\"MRTN__sc-1gofnyi-2 gACiYG\")\n",
    "        \n",
    "    \n",
    "        for link_recipe in link_recipes:\n",
    "            url_recipe = \"https://www.marmiton.org\" + link_recipe.get('href')\n",
    "            all_recipes_url.append(url_recipe)\n",
    "            \n",
    "        page_number += 1\n",
    "            \n",
    "    pd.set_option('display.max_colwidth', 1000)\n",
    "    df_all_recipes_url = pd.DataFrame(all_recipes_url , columns=[\"Recipe URL\"])\n",
    "    \n",
    "    \n",
    "    return(df_all_recipes_url)\n",
    "\n",
    "recipes_with_concombre = get_recipes_url_whit_ingredient(\"concombre\")\n",
    "print(recipes_with_concombre)"
   ]
  },
  {
   "cell_type": "markdown",
   "metadata": {},
   "source": [
    "Création d'une fonction qui permet d'extraire le nom de la recette."
   ]
  },
  {
   "cell_type": "code",
   "execution_count": 104,
   "metadata": {},
   "outputs": [],
   "source": [
    "def recipe_title(url):\n",
    "    recipe_url = url\n",
    "    try:\n",
    "        response = requests.get(recipe_url)\n",
    "        response.raise_for_status()\n",
    "    except requests.exceptions.RequestException as e:\n",
    "        # En cas d'erreur de connexion, on passe à la page suivante\n",
    "        print(f\"Erreur de connexion à {recipe_url}. La page suivante sera traitée.\")\n",
    "        return \"N/A\"\n",
    "    \n",
    "    soup = BeautifulSoup(response.content, \"html.parser\")\n",
    "    div_recipe_title = soup.find_all(\"div\", class_=\"RCP__sc-l87aur-2 PLTXZ\")\n",
    "    \n",
    "    if not div_recipe_title:\n",
    "        text_recipe_titles = \"N/A\"\n",
    "    else:\n",
    "        text_recipe_titles = [recipe.find(\"h1\").text.strip() for recipe in div_recipe_title]\n",
    "    \n",
    "    return text_recipe_titles"
   ]
  },
  {
   "cell_type": "markdown",
   "metadata": {},
   "source": [
    "On applique notre fonction dans dataframe pour récupérer tous les noms des recettes utilisant comme ingrédient \"concombre\""
   ]
  },
  {
   "cell_type": "code",
   "execution_count": 105,
   "metadata": {},
   "outputs": [
    {
     "name": "stdout",
     "output_type": "stream",
     "text": [
      "Erreur de connexion à https://www.marmiton.orghttps://www.marmiton.org/recettes/album1379858/5-recettes-fraiches-avec-du-concombre-0.html. La page suivante sera traitée.\n",
      "Erreur de connexion à https://www.marmiton.orghttps://www.marmiton.org/recettes/album1379841/concombre-10-recettes-qui-changent-vraiment-0.html. La page suivante sera traitée.\n",
      "Erreur de connexion à https://www.marmiton.orghttps://www.marmiton.org/recettes/album1378413/pas-a-pas-la-salade-de-concombres-a-la-creme-fraiche-0.html. La page suivante sera traitée.\n",
      "Erreur de connexion à https://www.marmiton.orghttps://www.marmiton.org/recettes/album1355260/20-recettes-pour-profiter-du-concombre-0.html. La page suivante sera traitée.\n",
      "Erreur de connexion à https://www.marmiton.org/recettes/index/ingredient/1-concombre. La page suivante sera traitée.\n",
      "                                                                                               Recipe URL  \\\n",
      "0    https://www.marmiton.org/recettes/recette_verrines-au-saumon-fume-a-la-creme-de-concombre_55922.aspx   \n",
      "1                                 https://www.marmiton.org/recettes/recette_soupe-de-concombre_15059.aspx   \n",
      "2           https://www.marmiton.org/recettes/recette_tagliatelles-de-concombre-au-saumon-fume_64364.aspx   \n",
      "3                        https://www.marmiton.org/recettes/recette_tzatziki-de-concombre-grece_12823.aspx   \n",
      "4         https://www.marmiton.org/recettes/recette_salade-fraicheur-concombre-et-surimi-light_34120.aspx   \n",
      "..                                                                                                    ...   \n",
      "995                           https://www.marmiton.org/recettes/recette_caviar-et-gourmandise_227907.aspx   \n",
      "996                               https://www.marmiton.org/recettes/recette_verrine-asiatique_224851.aspx   \n",
      "997                        https://www.marmiton.org/recettes/recette_soupe-a-la-betterave-rose_22400.aspx   \n",
      "998                 https://www.marmiton.org/recettes/recette_salade-de-pourpier-a-la-grecque_221559.aspx   \n",
      "999            https://www.marmiton.org/recettes/recette_filets-de-poulet-aux-billes-de-melon_217835.aspx   \n",
      "\n",
      "                                          Recipe Title  \n",
      "0    [Verrines au saumon fumé à la crème de concombre]  \n",
      "1                                 [Soupe de concombre]  \n",
      "2           [Tagliatelles de concombre au saumon fumé]  \n",
      "3                      [Tzatziki de concombre (Grèce)]  \n",
      "4       [Salade fraîcheur concombre et surimi (light)]  \n",
      "..                                                 ...  \n",
      "995                            [Caviar et gourmandise]  \n",
      "996             [Verrines asiatiques boeuf sauce soja]  \n",
      "997                       [soupe à la betterave  rose]  \n",
      "998                  [Salade de pourpier à la grecque]  \n",
      "999    [Filets de poulets marinés aux billes de melon]  \n",
      "\n",
      "[1000 rows x 2 columns]\n"
     ]
    }
   ],
   "source": [
    "recipes_with_concombre[\"Recipe Title\"] = recipes_with_concombre[\"Recipe URL\"].apply(recipe_title)\n",
    "print(recipes_with_concombre)"
   ]
  },
  {
   "cell_type": "markdown",
   "metadata": {},
   "source": [
    "On supprime de notra DataFrame, les valeurs manquantes"
   ]
  },
  {
   "cell_type": "code",
   "execution_count": 106,
   "metadata": {},
   "outputs": [],
   "source": [
    "recipes_with_concombre.drop(recipes_with_concombre[recipes_with_concombre['Recipe Title'] == 'N/A'].index, inplace=True)\n",
    "recipes_with_concombre.dropna(how='all', inplace=True)"
   ]
  },
  {
   "cell_type": "markdown",
   "metadata": {},
   "source": [
    "Développement d'une fonction qui, en utilisant l'URL d'une recette, extrait la liste des ingrédients de cette recette ainsi que le nombre de personnes associé."
   ]
  },
  {
   "cell_type": "code",
   "execution_count": 107,
   "metadata": {},
   "outputs": [],
   "source": [
    "def list_ingredients(url):\n",
    "    recipe_url = url\n",
    "    try:\n",
    "        response = requests.get(recipe_url)\n",
    "        response.raise_for_status()\n",
    "    except requests.exceptions.RequestException as e:\n",
    "        # En cas d'erreur de connexion, on passe à la page suivante\n",
    "        print(f\"Erreur de connexion à {recipe_url}. La page suivante sera traitée.\")\n",
    "        return \"N/A\"\n",
    "    soup = BeautifulSoup(response.content, \"html.parser\")\n",
    "    script_tag = soup.find(\"script\", type=\"application/ld+json\")\n",
    "    \n",
    "    if script_tag:\n",
    "        # Extraire le contenu JSON à l'intérieur de la balise <script>\n",
    "        json_data = script_tag.string.strip()\n",
    "\n",
    "        # Charger les données JSON\n",
    "        data = json.loads(json_data)\n",
    "\n",
    "        # Extraire les valeurs spécifiques\n",
    "        recipe_yield = data.get(\"recipeYield\", \"N/A\")\n",
    "        recipe_ingredients = data.get(\"recipeIngredient\", [])\n",
    "\n",
    "        # Créer un dictionnaire de données pour le DataFrame\n",
    "        recipe_data = {\n",
    "            \"nbr de personnes\": [recipe_yield]\n",
    "        }\n",
    "\n",
    "        # Ajouter chaque ingrédient en tant que colonne dans le dictionnaire\n",
    "        for i, ingredient in enumerate(recipe_ingredients, start=1):\n",
    "            recipe_data[f\"ingredient {i}\"] = [ingredient]\n",
    "            \n",
    "            \n",
    "\n",
    "        # Créer le DataFrame\n",
    "        df_ingredients = pd.DataFrame(recipe_data)\n",
    "\n",
    "  \n",
    "    else:\n",
    "        print(\"Balise <script> non trouvée ou type incorrect.\")\n",
    "        df_ingredients = None\n",
    "    \n",
    "    return df_ingredients"
   ]
  },
  {
   "cell_type": "markdown",
   "metadata": {},
   "source": [
    "Application de la fonction dans notre DataFrame"
   ]
  },
  {
   "cell_type": "code",
   "execution_count": 108,
   "metadata": {},
   "outputs": [],
   "source": [
    "intermediate_dfs = recipes_with_concombre.apply(lambda row: list_ingredients(row[\"Recipe URL\"]), axis=1)"
   ]
  },
  {
   "cell_type": "code",
   "execution_count": 110,
   "metadata": {},
   "outputs": [],
   "source": [
    "result_df = pd.concat(intermediate_dfs.tolist(), ignore_index=True)"
   ]
  },
  {
   "cell_type": "code",
   "execution_count": 111,
   "metadata": {},
   "outputs": [],
   "source": [
    "recipes_with_concombre_ingredients = pd.concat([recipes_with_concombre, result_df], axis=1)"
   ]
  },
  {
   "cell_type": "code",
   "execution_count": 112,
   "metadata": {},
   "outputs": [],
   "source": [
    "recipes_with_concombre_ingredients.drop(recipes_with_concombre[recipes_with_concombre['Recipe Title'] == 'N/A'].index, inplace=True)\n",
    "recipes_with_concombre_ingredients.dropna(how='all', inplace=True)"
   ]
  },
  {
   "cell_type": "code",
   "execution_count": 115,
   "metadata": {},
   "outputs": [],
   "source": [
    "def list_steps(url):\n",
    "    recipe_url = url\n",
    "    try:\n",
    "        response = requests.get(recipe_url)\n",
    "        response.raise_for_status()\n",
    "    except requests.exceptions.RequestException as e:\n",
    "        # En cas d'erreur de connexion, retourner un DataFrame vide\n",
    "        return pd.DataFrame(columns=[\"nbre d'étapes\", \"Etape 1\"])\n",
    "    \n",
    "    soup = BeautifulSoup(response.content, \"html.parser\")\n",
    "    script_tag = soup.find(\"script\", type=\"application/ld+json\")\n",
    "    \n",
    "    if script_tag:\n",
    "        # Extraire le contenu JSON à l'intérieur de la balise <script>\n",
    "        json_data = script_tag.string.strip()\n",
    "\n",
    "        # Charger les données JSON\n",
    "        data = json.loads(json_data)\n",
    "\n",
    "        #Extrare les données dans recipeinstructions\n",
    "        recipe_instructions = data.get(\"recipeInstructions\", [])\n",
    "        \n",
    "        # Compter le nombre d'étapes de type \"HowToStep\"\n",
    "        num_steps = sum(1 for step in recipe_instructions if step.get(\"@type\") == \"HowToStep\")\n",
    "        \n",
    "        # Créer un dictionnaire de données pour le DataFrame\n",
    "        recipe_data = {\n",
    "            \"nbre d'étapes\": [num_steps]\n",
    "            }\n",
    "        \n",
    "\n",
    "        # Ajouter chaque étape en tant que colonne dans le dictionnaire\n",
    "        for i, instruction in enumerate(recipe_instructions, start=1):\n",
    "            recipe_data[f\"Etape {i}\"] = instruction.get(\"text\", \"\")\n",
    "            \n",
    "            \n",
    "\n",
    "\n",
    "        # Créer le DataFrame\n",
    "        df_steps = pd.DataFrame(recipe_data)\n",
    "\n",
    "  \n",
    "    else:\n",
    "        print(\"Balise <script> non trouvée ou type incorrect.\")\n",
    "        df_steps = None\n",
    "    \n",
    "    return df_steps"
   ]
  },
  {
   "cell_type": "code",
   "execution_count": null,
   "metadata": {},
   "outputs": [],
   "source": []
  },
  {
   "cell_type": "code",
   "execution_count": 119,
   "metadata": {},
   "outputs": [],
   "source": [
    "intermediate_dfs_1 = recipes_with_concombre_ingredients.apply(lambda row: list_steps(row[\"Recipe URL\"]), axis=1)\n",
    "result_df_1 = pd.concat(intermediate_dfs_1.tolist(), ignore_index=True)\n",
    "recipes_with_concombre_ingredients_steps = pd.concat([recipes_with_concombre_ingredients, result_df_1], axis=1)"
   ]
  },
  {
   "cell_type": "code",
   "execution_count": 120,
   "metadata": {},
   "outputs": [],
   "source": [
    "# Définir le nom du fichier Excel de sortie\n",
    "output_excel_file = \"concombre_data.xlsx\"\n",
    "recipes_with_concombre_ingredients_steps.to_excel(output_excel_file, index=False)"
   ]
  },
  {
   "cell_type": "code",
   "execution_count": 121,
   "metadata": {},
   "outputs": [],
   "source": [
    "#Applications avec l'ingredient tomate\n",
    "recipes_with_tomate = get_recipes_url_whit_ingredient(\"tomate\")\n",
    "recipes_with_tomate[\"Recipe Title\"] = recipes_with_tomate[\"Recipe URL\"].apply(recipe_title)\n",
    "recipes_with_tomate.drop(recipes_with_tomate[recipes_with_tomate['Recipe Title'] == 'N/A'].index, inplace=True)\n",
    "recipes_with_tomate.dropna(how='all', inplace=True)\n",
    "intermediate_dfs = recipes_with_tomate.apply(lambda row: list_ingredients(row[\"Recipe URL\"]), axis=1)\n",
    "result_df = pd.concat(intermediate_dfs.tolist(), ignore_index=True)\n",
    "recipes_with_tomate_ingredients = pd.concat([recipes_with_tomate, result_df], axis=1)\n",
    "recipes_with_tomate_ingredients.drop(recipes_with_tomate_ingredients[recipes_with_tomate_ingredients['Recipe Title'] == 'N/A'].index, inplace=True)\n",
    "recipes_with_tomate_ingredients.dropna(how='all', inplace=True)\n",
    "intermediate_dfs_1 = recipes_with_tomate_ingredients.apply(lambda row: list_steps(row[\"Recipe URL\"]), axis=1)\n",
    "result_df_1 = pd.concat(intermediate_dfs_1.tolist(), ignore_index=True)\n",
    "recipes_with_tomate_ingredients_steps = pd.concat([recipes_with_tomate_ingredients, result_df_1], axis=1)\n",
    "output_excel_file = \"tomate_data.xlsx\"\n",
    "recipes_with_tomate_ingredients_steps.to_excel(output_excel_file, index=False)\n",
    "\n",
    "\n",
    "\n",
    "\n",
    "\n"
   ]
  },
  {
   "cell_type": "code",
   "execution_count": 135,
   "metadata": {},
   "outputs": [
    {
     "name": "stdout",
     "output_type": "stream",
     "text": [
      "Les données pour l'ingrédient 'banane' ont été exportées au fichier Excel : banane_data.xlsx\n"
     ]
    }
   ],
   "source": [
    "ingredient = \"banane\"\n",
    "output_excel_file = \"banane_data.xlsx\"\n",
    "\n",
    "# Etape 1 : Obtenir les URL de recettes avec l'ingrédient donné\n",
    "recipes_with_ingredient = get_recipes_url_whit_ingredient(ingredient)\n",
    "    \n",
    "# Etape 2 : Obtenir le titre des recettes\n",
    "recipes_with_ingredient[\"Recipe Title\"] = recipes_with_ingredient[\"Recipe URL\"].apply(recipe_title)\n",
    "    \n",
    "# Etape 3 : Supprimer les lignes avec des titres de recettes \"N/A\" et les lignes vides\n",
    "recipes_with_ingredient.drop(recipes_with_ingredient[recipes_with_ingredient['Recipe Title'] == 'N/A'].index, inplace=True)\n",
    "recipes_with_ingredient.dropna(how='all', inplace=True)\n",
    "    \n",
    "# Etape 4 : Obtenir les ingrédients pour chaque recette\n",
    "intermediate_dfs = recipes_with_ingredient.apply(lambda row: list_ingredients(row[\"Recipe URL\"]), axis=1)\n",
    "result_df = pd.concat(intermediate_dfs.tolist(), ignore_index=True)\n",
    "recipes_with_ingredient_ingredients = pd.concat([recipes_with_ingredient, result_df], axis=1)\n",
    "    \n",
    "# Etape 5 : Supprimer les lignes avec des titres de recettes \"N/A\" et les lignes vides\n",
    "recipes_with_ingredient_ingredients.drop(recipes_with_ingredient_ingredients[recipes_with_ingredient_ingredients['Recipe Title'] == 'N/A'].index, inplace=True)\n",
    "recipes_with_ingredient_ingredients.dropna(how='all', inplace=True)\n",
    "    \n",
    "# Etape 6 : Obtenir les étapes pour chaque recette\n",
    "intermediate_dfs_1 = recipes_with_ingredient_ingredients.apply(lambda row: list_steps(row[\"Recipe URL\"]), axis=1)\n",
    "result_df_1 = pd.concat(intermediate_dfs_1.tolist(), ignore_index=True)\n",
    "recipes_with_ingredient_ingredients_steps = pd.concat([recipes_with_ingredient_ingredients, result_df_1], axis=1)\n",
    "    \n",
    "# Etape 7 : Exporter les données finales au format Excel\n",
    "recipes_with_ingredient_ingredients_steps.to_excel(output_excel_file, index=False)\n",
    "print(f\"Les données pour l'ingrédient '{ingredient}' ont été exportées au fichier Excel : {output_excel_file}\")\n",
    "    \n",
    "    \n",
    "    "
   ]
  },
  {
   "cell_type": "code",
   "execution_count": 136,
   "metadata": {},
   "outputs": [
    {
     "name": "stdout",
     "output_type": "stream",
     "text": [
      "Erreur de connexion à https://www.marmiton.orghttps://www.marmiton.org/recettes/album1369299/20-recettes-a-faire-avec-des-abricots-0.html. La page suivante sera traitée.\n",
      "Les données pour l'ingrédient 'abricot' ont été exportées au fichier Excel : abricot_data.xlsx\n"
     ]
    }
   ],
   "source": [
    "ingredient = \"abricot\"\n",
    "output_excel_file = \"abricot_data.xlsx\"\n",
    "\n",
    "# Etape 1 : Obtenir les URL de recettes avec l'ingrédient donné\n",
    "recipes_with_ingredient = get_recipes_url_whit_ingredient(ingredient)\n",
    "    \n",
    "# Etape 2 : Obtenir le titre des recettes\n",
    "recipes_with_ingredient[\"Recipe Title\"] = recipes_with_ingredient[\"Recipe URL\"].apply(recipe_title)\n",
    "    \n",
    "# Etape 3 : Supprimer les lignes avec des titres de recettes \"N/A\" et les lignes vides\n",
    "recipes_with_ingredient.drop(recipes_with_ingredient[recipes_with_ingredient['Recipe Title'] == 'N/A'].index, inplace=True)\n",
    "recipes_with_ingredient.dropna(how='all', inplace=True)\n",
    "    \n",
    "# Etape 4 : Obtenir les ingrédients pour chaque recette\n",
    "intermediate_dfs = recipes_with_ingredient.apply(lambda row: list_ingredients(row[\"Recipe URL\"]), axis=1)\n",
    "result_df = pd.concat(intermediate_dfs.tolist(), ignore_index=True)\n",
    "recipes_with_ingredient_ingredients = pd.concat([recipes_with_ingredient, result_df], axis=1)\n",
    "    \n",
    "# Etape 5 : Supprimer les lignes avec des titres de recettes \"N/A\" et les lignes vides\n",
    "recipes_with_ingredient_ingredients.drop(recipes_with_ingredient_ingredients[recipes_with_ingredient_ingredients['Recipe Title'] == 'N/A'].index, inplace=True)\n",
    "recipes_with_ingredient_ingredients.dropna(how='all', inplace=True)\n",
    "    \n",
    "# Etape 6 : Obtenir les étapes pour chaque recette\n",
    "intermediate_dfs_1 = recipes_with_ingredient_ingredients.apply(lambda row: list_steps(row[\"Recipe URL\"]), axis=1)\n",
    "result_df_1 = pd.concat(intermediate_dfs_1.tolist(), ignore_index=True)\n",
    "recipes_with_ingredient_ingredients_steps = pd.concat([recipes_with_ingredient_ingredients, result_df_1], axis=1)\n",
    "    \n",
    "# Etape 7 : Exporter les données finales au format Excel\n",
    "recipes_with_ingredient_ingredients_steps.to_excel(output_excel_file, index=False)\n",
    "print(f\"Les données pour l'ingrédient '{ingredient}' ont été exportées au fichier Excel : {output_excel_file}\")\n",
    "    "
   ]
  },
  {
   "cell_type": "code",
   "execution_count": null,
   "metadata": {},
   "outputs": [],
   "source": []
  }
 ],
 "metadata": {
  "kernelspec": {
   "display_name": "Python 3",
   "language": "python",
   "name": "python3"
  },
  "language_info": {
   "codemirror_mode": {
    "name": "ipython",
    "version": 3
   },
   "file_extension": ".py",
   "mimetype": "text/x-python",
   "name": "python",
   "nbconvert_exporter": "python",
   "pygments_lexer": "ipython3",
   "version": "3.8.5"
  }
 },
 "nbformat": 4,
 "nbformat_minor": 4
}
